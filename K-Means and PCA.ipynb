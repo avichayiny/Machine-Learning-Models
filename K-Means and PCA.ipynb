<h1><center><b>Machine Learning</b></center></h1>
<h3><center>Exercise 4</center></h3>
<h4><center>K-Means and PCA<center></h4>
*Your* Name:  
<font color='red'>
FirstName1 LastName1, 123456789   
</font>

**Instructions:**
- Create a copy of this notebook and implement your code in it.
- Make sure you don't leave empty cells or empty answers.
- You should not change the code we provided you.
To Download the notebook go to **"File"** -> **"Download .ipynb"**.  
- Submit deadline: 4/7/2024 at 23:59
## Part 1 - K-Means (35%)
In this part you will have to implement the K-Means algorithm that was learned in class.<br>
**The implementation will be based on the numpy package only.**
### **1. Useful packages**
import matplotlib.pyplot as plt
import numpy as np
### **2. Data**
### **2.1 Convex Data**
Generate a convex 2D dataset
## Generate 2D data
X_convex = np.concatenate([
    np.random.normal([0, 0], size=(500, 2)),
    np.random.normal([5, 5], size=(500, 2)),
    np.random.normal([5, 0], size=(500, 2)),
    np.random.normal([0, 5], size=(500, 2)),
])

# Shuffle the data
np.random.shuffle(X_convex)

print(X_convex.shape)

Plot the a convex 2D dataset to explore how many clusters it contains
plt.title("Convex Dataset")
plt.scatter(X_convex[:, 0], X_convex[:, 1], cmap='viridis')
### **2.2 Non-Convex Data**
Generate a non-convex 2D dataset
from sklearn.datasets import make_moons
import matplotlib.pyplot as plt

X_non_convex, y = make_moons(n_samples=300, noise=0.05, random_state=42)

Plot the non convex 2D dataset to explore how many clusters it contains
plt.scatter(X_non_convex[:, 0], X_non_convex[:, 1], s=30)
plt.title("Non-Convex Dataset")
plt.show()
### **3. K-Means**
Implement the algorithm
class KMeans():
    def __init__(self, n_clusters=8, max_iter=300):
        self.n_clusters = n_clusters
        self.max_iter = max_iter

        ######## Helper fields #########
        self.X_fit_ = None      # Here you should store the dataset X.
                                # This can be useful for the next tasks.

        self.labels_ = None     # Here you should store the final labels.
                                # That is, the clusters indices for all the samples

        self.centroids = None   # Here you should store the final centroids.

        self.labels_history = []    # Here you should store the labels of each iteration.
                                    # This can also be useful later.

        self.centroids_history = [] # Here you should store the centroids of each iteration.
                                    # This can also be useful later.

        self.costs = []             # Here you should store the costs of the iterations.
                                    # That is, you should calculate the cost in every iteration
                                    # and store it in this list.


    def fit(self, X):
        #### YOUR CODE HERE ####
        self.X_fit_ = X
        n_samples, n_features = X.shape


        rng = np.random.default_rng()
        random_indices = rng.choice(n_samples, size=self.n_clusters, replace=False)
        self.centroids = X[random_indices]

        for i in range(self.max_iter):

            labels = self._get_labels(X)

            centroids = self._get_centroids(X, labels)

            cost = self._calculate_cost(X)


            self.labels_history.append(labels)
            self.centroids_history.append(self.centroids.copy())
            self.costs.append(cost)


            if np.allclose(self.centroids, centroids):
                break

            self.centroids = centroids

        self.labels_ = labels

    def predict(self, X):
        #### YOUR CODE HERE ####
        return self._get_labels(X)

    def _get_distances(self, X):
        #### YOUR CODE HERE ####
        dists = np.linalg.norm(X[:, np.newaxis] - self.centroids, axis=2)
        return dists

    def _get_labels(self, X):
        #### YOUR CODE HERE ####
        distances = self._get_distances(X)
        labels = np.argmin(distances, axis=1)
        return labels

    def _get_centroids(self, X, labels):
        #### YOUR CODE HERE ####
        centroids = np.array([
        X[labels == i].mean(axis=0) if np.any(labels == i) else self.centroids[i]
        for i in range(self.n_clusters)
        ])
        return centroids

    def _calculate_cost(self, X):
        #### YOUR CODE HERE ####
        distances = self._get_distances(X)
        closest = np.min(distances, axis=1)
        cost = np.sum(closest ** 2)
        return cost
### **3.1 K-Means Using Convex Data**
Run the algorithm on the 2D convex dataset
n_clusters = 4
kmeans = KMeans(n_clusters=n_clusters)
kmeans.fit(X_convex)
print("Final cost:", kmeans.costs[-1])

Plot a graph of the costs as a function of the iterations
costs = kmeans.costs
plt.plot(costs)
Now run the algorithm several more times with n_clusters = 2, 3, 4, 6, 8, 10, 20 and write **below** the **final** cost you got in each experiment.<br>

2 clusters: 16421.387348005584 <br>
3 clusters: 9731.75508361431 <br>
4 clusters: 3874.2038277269676 <br>
6 clusters: 3229.2682728983086 <br>
8 clusters: 2674.74480202931 <br>
10 clusters: 2315.624445190432 <br>
20 clusters: 1171.5659227158394 <br>
Now write a code that plots the clusters and the locations of the centroids at each iteration
########################
#### YOUR CODE HERE ####
########################
def plot_kmeans_iterations(kmeans, X):
    n_iter = len(kmeans.centroids_history)

    for i in range(n_iter):
        plt.figure(figsize=(6, 5))
        labels = kmeans.labels_history[i]
        centroids = kmeans.centroids_history[i]


        plt.scatter(X[:, 0], X[:, 1], c=labels, s=15, cmap='tab10', alpha=0.6)


        plt.scatter(centroids[:, 0], centroids[:, 1], c='red', marker='X', s=200, label='Centroids')

        plt.title(f"Iteration {i+1}")
        plt.xlabel("X1")
        plt.ylabel("X2")
        plt.legend()
        plt.grid(True)
        plt.show()
plot_kmeans_iterations(kmeans, X_convex)
### **3.1 K-Means Using Non-Convex Data**
Run the algorithm on the 2D non-convex dataset
n_clusters = 4
kmeans = KMeans(n_clusters=n_clusters)
kmeans.fit(X_non_convex)
print("Final cost:", kmeans.costs[-1])
Plot a graph of the costs as a function of the iterations
costs = kmeans.costs
plt.plot(costs)
Now run the algorithm several more times with n_clusters = 2, 3, 4, 6, 8, 10, 20 and write **below** the **final** cost you got in each experiment.<br>

2 clusters: 121.0122397509312 <br>
3 clusters: 81.21950686748022 <br>
4 clusters: 52.44633310207939 <br>
6 clusters: 35.002926099391246 <br>
8 clusters: 19.395849616798422 <br>
10 clusters: 12.194697972739162 <br>
20 clusters: 4.394115307268476 <br>
Now write a code that plots the clusters and the locations of the centroids at each iteration
########################
#### YOUR CODE HERE ####
########################
def plot_kmeans_iterations(kmeans, X):
    n_iter = len(kmeans.centroids_history)

    for i in range(n_iter):
        plt.figure(figsize=(6, 5))
        labels = kmeans.labels_history[i]
        centroids = kmeans.centroids_history[i]


        plt.scatter(X[:, 0], X[:, 1], c=labels, s=15, cmap='tab10', alpha=0.6)


        plt.scatter(centroids[:, 0], centroids[:, 1], c='red', marker='X', s=200, label='Centroids')

        plt.title(f"Iteration {i+1}")
        plt.xlabel("X1")
        plt.ylabel("X2")
        plt.legend()
        plt.grid(True)
        plt.show()
plot_kmeans_iterations(kmeans, X_non_convex)
Explain the output of k-means for both datasets. Focus on when k-means successfully classifies the dataset and when it fails. Provide an explanation for why this happens.


**Answer:** The k-means algorithm works based on geometric distances. It checks distances between points and the closest centroid. Associates each point with the closest centroid according to Euclidean distance (straight line). Calculates the center of each group as the geometric mean of all points in it. Therefore, it implicitly assumes that the data is arranged in a circular or convex shape or some uniform layout.<bir>
As you can see, when the data is convex, the data can be divided by straight distances, as the groups are convex – that is, each point within a group is a relatively small distance from the center, and the groups are well separated – there is no overlap or curvature between groups.<bir>
In contrast, in non-convex, it can be seen that the groups are not convex or do not separate in a simple geometric way, as the groups are curved, or wrap around each other, and there are also points that are closer to the center of an incorrect group – even though they belong to another group. K-Means cuts the space with straight lines, therefore creating a wrong division.

## Part 2 - PCA (35%)
In this part you will implement the PCA algorithm on the MNIST dataset.<br>
**As in the first part, your implementation will be based on the numpy package only.**
### **1. Useful packages**

import matplotlib.pyplot as plt
import numpy as np

from sklearn.datasets import fetch_openml
### **2. Data**
Load the MNIST dataset from sklearn datasets.
X, y = fetch_openml('mnist_784', version=1, return_X_y=True, as_frame=False)
### **3. PCA**
Implement the PCA algorithm here.<br> Don't forget to center the data, i.e. make the mean of the columns of the dataset to 0.
import numpy as np

class PCA:
    def __init__(self):
        self.V = None

    def fit(self, X):
        #### YOUR CODE HERE ####
        self.X_fit_ = X
        X_centered = X - np.mean(X, axis=0)
        cov_matrix = np.cov(X_centered, rowvar=False)
        eig_vals, eig_vecs = np.linalg.eigh(cov_matrix)


        sorted_indices = np.argsort(eig_vals)[::-1]
        self.V = eig_vecs[:, sorted_indices]

    def transform(self, X, n_dimentions):
        #### YOUR CODE HERE ####
        X_centered = X - np.mean(X, axis=0)

        V_reduced = self.V[:, :n_dimentions]
        X_reduced = np.dot(X_centered, V_reduced)
        return X_reduced



Run the algorithm on MNIST dataset.
pca = PCA()
pca.fit(X)

# transform the data to the top 2 principal components
X_reduced = pca.transform(X, 2)
Plot the data in the top 2 principal component space.
y = [int(label) for label in y]
fig, ax = plt.subplots()
scatter = ax.scatter(X_reduced[:, 0], X_reduced[:, 1], c=y, cmap='viridis')

cbar = fig.colorbar(scatter)
cbar.set_label('Labels')

ax.set_xlabel('Principal component 1')
ax.set_ylabel('Principal component 2')

plt.show()
As we showed in class, $V\in \mathbb{R}^{d\times r}$  is the matrix whose colmns are the top  $r$ eigenvectors of $X^TX$. That is, the eigenvectors that correspond to the  $r$ largest eigenvalues. <br>
In the cell below, Write a code that plots the two matrices $V^TV$ and $VV^T$.<br>
Explain the differences between the two matrices
########################
#### YOUR CODE HERE ####
########################
import matplotlib.pyplot as plt
import seaborn as sns


X_centered = X - np.mean(X, axis=0)
cov_matrix = np.cov(X_centered, rowvar=False)
eig_vals, eig_vecs = np.linalg.eigh(cov_matrix)
sorted_indices = np.argsort(eig_vals)[::-1]
V = eig_vecs[:, sorted_indices[:10]]

# V^T V
VtV = np.dot(V.T, V)

# V V^T
VVt = np.dot(V, V.T)


plt.figure(figsize=(12, 5))

plt.subplot(1, 2, 1)
sns.heatmap(VtV, annot=True, fmt=".2f", cmap="viridis")
plt.title("VᵀV")

plt.subplot(1, 2, 2)
sns.heatmap(VVt[:20, :20], cmap="viridis")
plt.title("VVᵀ (partial view)")

plt.tight_layout()
plt.show()

Your Explanation:
**Answer:**
In PCA, the matrix
$V\in \mathbb{R}^{d\times r}$
  contains the top r principal components (as column vectors).<br>
  $V^TV$ is an
$r×r$
 matrix that checks whether the principal components are orthonormal.
In an ideal PCA, we get
$V^TV$
=
𝐼
𝑟
, meaning the components are orthogonal and unit-length.
<br>
$VV^T$
  is a $d×d$ projection matrix that maps any original vector in
$\mathbb{R}^{d}$
  onto the subspace spanned by the principal components.
It is often used for reconstructing or projecting data back into the original space.


Now write a function that projects a sample to a n-dimentional space  and **recontsturct** it to the original space.
def pca_reconstruction(x, n_dimentions):
    #### YOUR CODE HERE ####

    x_centered = x - np.mean(pca.X_fit_, axis=0)


    V_reduced = pca.V[:, :n_dimentions]


    x_projected = np.dot(x_centered, V_reduced)


    x_reconstructed = np.dot(x_projected, V_reduced.T)


    x_reconstructed += np.mean(pca.X_fit_, axis=0)

    return x_reconstructed
Now write code that samples a random image from the dataset, and uses the function above to project it into n-dimensional space and reconstruct it to the original space. <br><br>
Is the reconstructed image the original image?
<br><br>

Perform the reconstruction above from spaces of dimensions: 3, 10, 100.<br>

**Answer:** As you can see - Not exactly.
PCA reduces information — so reconstruction from a limited space loses detail.
But as you increase the number of components (dimensions), the reconstruction improves and gets closer to the original image.
########################
#### YOUR CODE HERE ####
########################

idx = np.random.randint(0, X.shape[0])
x_original = X[idx]


dims = [3, 10, 100]
reconstructions = []

for dim in dims:
    x_reconstructed = pca_reconstruction(x_original, dim)
    reconstructions.append(x_reconstructed)


plt.figure(figsize=(12, 3))


plt.subplot(1, 4, 1)
plt.imshow(x_original.reshape(28, 28), cmap='gray')
plt.title("Original")
plt.axis('off')


for i, (dim, x_rec) in enumerate(zip(dims, reconstructions)):
    plt.subplot(1, 4, i+2)
    plt.imshow(x_rec.reshape(28, 28), cmap='gray')
    plt.title(f"{dim}D")
    plt.axis('off')

plt.tight_layout()
plt.show()


equal_check = np.allclose(x_original, reconstructions[-1])


## Part 3 - Convolutional Neural Networks (30%)
This part is related to the NN implementation from HW4, so pay attention.
In this section, we are going to implement a convolutional neural network (CNN) and train it on the mnist dataset. It will be very similar to what you did in the previous sections but now we use new layers like ```convolution```and ```pooling```.  
To get started, copy all parts from Ex4 into this section.
![image.png](data:image/png;base64,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)
Reminder:  
Go over this **[article](https://cs231n.github.io/convolutional-networks/)** to better understand convolutional neural networks.

- **Convolutional operation:** A “filter”, also called a “kernel”, is passed over the image, viewing a few pixels at a time (for example, 3X3 or 5X5). The convolution operation is a dot product of the original pixel values with weights defined in the filter. The results are summed up into one number that represents all the pixels the filter observed.

- **Pooling:** “Pooling” is the process of further downsampling and reducing the size of the matrix. A filter is passed over the results of the previous layer and selects one number out of each group of values (typically the maximum, this is called max pooling). This allows the network to train much faster, focusing on the most important information in each feature of the image. By sliding the window along the image, we compute the mean or the max of the portion of the image inside the window in case of MeanPooling or MaxPooling.

- **Stride:** The number of pixels to pass at a time when sliding the convolutional kernel.

- **Padding:** To preserve exactly the size of the input image, it is useful to add zero padding on the border of the image.

**How do we compute the output size of a convolutional layer?**

input:
- An image of dimensions $W_{in}×H_{in}$.
- A filter of dimensions $K \times K$.
- Stride $S$
- padding $P$

$$W_{out} = \left\lfloor\frac{W_{in} - F + 2P}{S}\right\rfloor + 1$$
<br>
$$H_{out} = \left\lfloor\frac{H_{in} - F + 2P}{S}\right\rfloor + 1$$
**Q1:** Given an image with shape [1,28,28], what will be the shape of the output of a convolution layer with 10 5x5 kernels (filters), with stride of 1, and without padding?

**A1:**
<font color='red'>
YOUR ANSWER WITH EXPLANATIONS HERE! (3 points)
</font>
<br>
$W_{in}= 28 - image-dim $ <br>
F = 5 - kernel dim <br>
P = 0 - padding <br>
S = 1 - stride <br>
$$W_{out} = \left\lfloor\frac{28 - 5 + 0}{1}\right\rfloor + 1 = 24$$
Each 5×5 filter reduces the image by 4 pixels in each dimension (28→24), and there are 10 such filters ⇒ 10 channels in the output.<br>
so [10, 24, 24]



**Q2:** We would like our convolution layer to output a volume with the same shape as the input image. So input_shape and output_shape will be [1,28,28]. What should be the padding (assume 5x5 filter and stride of 1)?
**A2:**
<font color='red'>
YOUR ANSWER WITH EXPLANATIONS HERE! (2 points)
</font>
<br>
we want that the output will be 28
$W_{in}= 28 - image-dim $ <br>
F = 5 - kernel dim <br>
S = 1 - stride <br>
$$W_{out} = \left\lfloor\frac{28 - 5 + 2P}{1}\right\rfloor + 1 = 28$$
so p = 2.<br>
 Padding of 2 pixels on each side ensures that the 5×5 filters keep the output size equal to the input size.
**Q3:** Consider an input image with shape [1, 28, 28]. You apply two consecutive convolution layers. The first convolution layer uses 20 filters, each of size 3x3, with a stride of 1 and no padding. The second convolution layer uses 15 filters, each of size 3x3, with a stride of 3 and padding of 2. What will be the shape of the output after these two convolution layers?
**A3:**
<font color='red'>
YOUR ANSWER WITH EXPLANATIONS HERE! (4 points)
</font>
<br>
first layer:<br>
$W_{in}= 28 - image-dim $ <br>
F = 3 - kernel dim <br>
P = 0 - padding <br>
S = 1 - stride <br>
$$W_{1} = \left\lfloor\frac{28 - 3 + 0}{1}\right\rfloor + 1 = 26$$<br>
second layer:<br>
$W_{in}= 26 - image-dim $ <br>
F = 3 - kernel dim <br>
P = 2 - padding <br>
S = 3 - stride <br>
$$W_{2} = \left\lfloor\frac{26 - 3 + 2*2}{3}\right\rfloor + 1 = 10$$

First layer reduces size from 28→26, produces 20 channels.<br>
Second layer increases padding to preserve size before stride-3 downsampling, and outputs 15 channels of size 10×10<br>
so [15, 10, 10]


Let's create a simple Convolutional neural network.
The architecture:  
**Conv layer** (10 5x5 Kernels) -> **Max Pooling** (2x2 kernel) -> **Relu** -> **Conv layer** (20 5x5 Kernels) -> **Max Pooling** (2x2 kernel) -> **Relu** -> **Hidden layer** (320 units) -> **Relu** -> **Hidden layer** (50 units) -> **Output layer** (10 outputs).
import numpy as np
from sklearn.datasets import fetch_openml
X, y = fetch_openml('mnist_784', return_X_y=True, as_frame=False, parser='auto')
print(X.shape, y.shape)

"""Data normalization"""

## TODO: Normalize the dataset according to Min-Max normalization.
def min_max_norm(X):
    X_min = np.min(X, axis=0)
    X_max = np.max(X, axis=0)
    diff = X_max - X_min
    diff[diff == 0] = 1
    return (X - X_min) / diff


X = min_max_norm(X)

"""Split the data into Train set (80%) and a Test set (20%)"""

## TODO: Split the data into Train set (80%) and Test set (20%)

indices = np.random.permutation(len(X))
split_index = int(0.8 * len(X))

X_train = X[indices[:split_index]]
X_test = X[indices[split_index:]]
y_train = y[indices[:split_index]]
y_test = y[indices[split_index:]]

print(X_train.shape, X_test.shape, y_train.shape, y_test.shape)

"""### **Useful functions (7 points)**

Activation function - Sigmoid
"""

## TODO: Implement the sigmoid activation function and its derivative
def sigmoid(z):
  return 1 / (1 + np.exp(-z))

def sigmoid_derivative(z):
  s = sigmoid(z)
  return s * (1 - s)

"""Softmax function"""

## TODO: Implement the softmax function
def softmax(z):
    z = z - np.max(z)
    exp_z = np.exp(z)
    return exp_z / np.sum(exp_z)

"""Loss function"""

# Negative Log Likelihood loss function for multiclass
# Receive y_pred, which is a (10,) vector containing probability predictions, and y_true,
# which is a one-hot (10,) vector with the value of 1 only at the correct class index and zeros elsewhere.
def nll_loss(y_pred, y_true):
  loss = -np.sum(y_true * np.log(y_pred), dtype=np.float64)
  return loss / y_pred.shape[0]

"""### **Multilayer Perceptron (24 points)**

Hyper-Parameters
"""

## TODO: Define the hyper-parameters that you will need for your model
# Note that the MNIST dataset has 10 classes.
# input_layer = ... # 28X28 = 784
# hidden_layer = ...
# output_layer = ...
# learning_rate = ...
# epochs = ...

# Your code here

input_layer = 784
hidden_layer = 64
output_layer = 10
learning_rate = 0.1
epochs = 5

"""Multilayer Perceptron class with train and test functions."""

class MultilayerPerceptron:
  def __init__(self, input_layer, hidden_layer, output_layer, learning_rate, epochs):
    ## TODO: Initialize the parameters.
    ## Note that the MNIST dataset has 10 classes.

    ######################
    ### YOUR CODE HERE ###
    ######################
    self.W1 = np.random.randn(hidden_layer, input_layer) * 0.01
    self.b1 = np.zeros((hidden_layer, 1))
    self.W2 = np.random.randn(output_layer, hidden_layer) * 0.01
    self.b2 = np.zeros((output_layer, 1))
    ######################

    # Hyperparameters
    self.learning_rate = learning_rate
    self.epochs = epochs

  def forward(self, X):
    ## TODO: Implement the forward pass.

    ######################
    ### YOUR CODE HERE ###
    ######################
    Z1 = np.dot(self.W1, X) + self.b1
    A1 = sigmoid(Z1)
    Z2 = np.dot(self.W2, A1) + self.b2

    A2 = softmax(Z2)
    ######################

    return Z1, A1, Z2, A2

  # Back propagation - compute the gradients of each parameter
  def backward(self, X, Y, Z1, A1, Z2, A2):
    ## TODO: Implement the backward pass, Back propagation - compute the gradients of each parameter.

    ######################
    ### YOUR CODE HERE ###
    ######################
    m = X.shape[1]
    dZ2 = A2 - Y
    dW2 = np.dot(dZ2, A1.T) / m
    db2 = np.sum(dZ2, axis=1, keepdims=True) / m
    dA1 = np.dot(self.W2.T, dZ2)
    dZ1 = dA1 * sigmoid_derivative(Z1)
    dW1 = np.dot(dZ1, X.T) / m
    db1 = np.sum(dZ1, axis=1, keepdims=True) / m
    ######################

    # TODO: Gradient descent parameter update
    ######################
    ### YOUR CODE HERE ###
    ######################
    self.W1 -= self.learning_rate * dW1
    self.b1 -= self.learning_rate * db1
    self.W2 -= self.learning_rate * dW2
    self.b2 -= self.learning_rate * db2
    ######################

  def train(self, X_train, y_train):
    train_size = len(X_train)

    for epoch in range(self.epochs):
      total_epoch_loss = 0
      for i in range(train_size):

        # Reshape image i to be (784x1)
        x_i = X_train[i].reshape(-1, 1)
        Z1, A1, Z2, A2 = self.forward(x_i)

        # TODO: Define y_true as a zero vector with the shape (10, 1),
        # and place a '1' at the index specified by int(y_train[i]).
        # For example when int(y_train[i])=4, then y_true should be (0,0,0,0,1,0,0,0,0,0)
        ######################
        ### YOUR CODE HERE ###
        ######################
        y_true = np.zeros((10,1))
        y_true[int(y_train[i])] = 1
        #...
        ######################

        loss = nll_loss(A2, y_true)
        total_epoch_loss += loss
        self.backward(x_i, y_true, Z1, A1, Z2, A2)
      print(f"Epoch {epoch+1}/{self.epochs}, Average Loss: {total_epoch_loss/train_size}")

  def test(self, X_test, y_test):
    true_predictions = 0

    # TODO: test your model and print the accuracy on the test set
    ######################
    ### YOUR CODE HERE ###
    ######################
    test_size = len(X_test)
    for i in range(test_size):
      x_i = X_test[i].reshape(-1,1)
      _, _, _, A2 = self.forward(x_i)
      #...
      pred = np.argmax(A2)
      if pred == int(y_test[i]):
          true_predictions += 1
    accuracy = true_predictions / test_size
    ######################

    print(f"Accuracy: {accuracy}")

"""#### **Train**"""

# TODO: Define your mlp model with all the parameters
######################
### YOUR CODE HERE ###
######################
#mlp = MultilayerPerceptron(input_layer=..., hidden_layer=..., output_layer=..., learning_rate=..., epochs=...)
######################

mlp = MultilayerPerceptron(
    input_layer=784,
    hidden_layer=64,
    output_layer=10,
    learning_rate=0.1,
    epochs=5
)

# Train your model
mlp.train(X_train, y_train)

"""#### **Test**

Accuracy should be more than **0.8** !
"""

mlp.test(X_test, y_test)
# check python version
!python --version

# Commented out IPython magic to ensure Python compatibility.
from google.colab import drive

drive.mount('/content/drive', force_remount=True)

# Enter the foldername in your Drive where you have saved the code and datasets.
# Recommended path: 'machine_learning/assignments/assignment5/'
FOLDERNAME = 'machine_learning/assignments/'
ASSIGNMENTNAME = 'assignment4'

# %cd drive/My\ Drive
# %cp -r $FOLDERNAME/$ASSIGNMENTNAME ../../
# %cd ../../
import torch
import numpy as np
from torchvision import datasets, transforms
import matplotlib
import matplotlib.pyplot as plt

data_path = "./FashionMNIST_data"

# Define a transform to normalize the data
transform = transforms.Compose([transforms.ToTensor(),
                              transforms.Normalize((0.5,), (0.5,)),
                              ])
label_names = [
    'T-shirt/top', 'Trouser', 'Pullover', 'Dress', 'Coat', 'Sandal', 'Shirt', 'Sneaker', 'Bag', 'Ankle boot'
]

# Download and load the data
mnist_data = datasets.FashionMNIST(data_path, download=True, train=True, transform=transform)
mnist_dataloader = torch.utils.data.DataLoader(mnist_data, batch_size=64, shuffle=True)

"""Using the ```mnist_data``` (dataset) and ```mnist_dataloader``` (batch dataloader):
1. Print the number of samples in the whole dataset.
2. Print the number of samples in a single batch.
3. Print the shape of images in the data.
4. Print the number of labels in the dataset (targets).
5. Plot 3 random images using matplotlib (```plt.imshow```) and print their labels.
"""

# get single batch
dataiter = iter(mnist_dataloader)
batch_images, batch_labels = next(dataiter)
from torch import nn, optim
import torch.nn.functional as F

class NeuralNetwork(nn.Module):
    def __init__(self):
        '''
        Declare layers for the model
        '''
        super().__init__()
        # TODO
        ######################
        ### YOUR CODE HERE ###
        ######################
        super().__init__()

        self.fc1 = nn.Linear(784, 128)
        self.fc2 = nn.Linear(128, 64)
        self.fc3 = nn.Linear(64, 10)

        self.relu = nn.ReLU()
        self.logsoftmax = nn.LogSoftmax(dim=1)
        pass

    def forward(self, x):
        ''' Forward pass through the network, returns log_softmax values '''
        # TODO
        ######################
        ### YOUR CODE HERE ###
        ######################
        ''' Forward pass through the network, returns log_softmax values '''
        # flatten the input: from [batch_size, 1, 28, 28] to [batch_size, 784]
        x = x.view(x.shape[0], -1)

        # pass through layers
        x = self.relu(self.fc1(x))     # 784 -> 128 -> ReLU
        x = self.relu(self.fc2(x))     # 128 -> 64 -> ReLU
        x = self.logsoftmax(self.fc3(x))  # 64 -> 10 -> LogSoftmax

        return x

model = NeuralNetwork()
model
def view_classify(img, ps, version="MNIST"):
    '''
    Function for viewing an image and its predicted classes.
    img - the input image to the network
    ps - the class confidences (network output)
    '''
    ps = ps.data.numpy().squeeze()
    fig, (ax1, ax2) = plt.subplots(figsize=(6, 9), ncols=2)
    ax1.imshow(img.resize_(1, 28, 28).numpy().squeeze(), cmap='Greys_r')
    ax1.axis('off')

    # Setting the y-ticks for the bar chart
    ax2.barh(np.arange(10), ps)
    ax2.set_aspect(0.1)
    ax2.set_yticks(np.arange(10))  # Numeric y-ticks for positioning

    # Using set_yticklabels to assign string labels to y-ticks
    if version == "MNIST":
        ax2.set_yticklabels(label_names)

    ax2.set_title('Class Probability')
    ax2.set_xlim(0, 1.1)

    plt.tight_layout()
    plt.show()

def random_prediction_example(data_loader, model):
  '''
  The function sample an image from the data, pass it through the model (inference)
  and show the prediction visually. It returns the predictions confidences.
  '''
  # take a batch and randomly pick an image
  dataiter = iter(data_loader)
  images, labels = next(dataiter)
  images.resize_(64, 1, 784)
  img = images[0]

  # Forward pass through the network
  # we use torch.no_grad() for faster inference and to avoid gradients from
  # moving through the network.
  with torch.no_grad():
      ps = model(img)
      # the network outputs log-probabilities, so take exponential for probabilities
      ps = torch.exp(ps)

  # visualize image and prediction
  view_classify(img.view(1, 28, 28), ps)
  return ps

# you can run this cell multiple times for different images
preds_conf = random_prediction_example(mnist_dataloader, model)

"""Print the prediction"""

# TODO: Print the prediction of the network for that sample (preds_conf)
######################
### YOUR CODE HERE ###
######################
predicted_label = torch.argmax(preds_conf).item()


predicted_confidence = preds_conf[0][predicted_label].item()

print(f"Predicted Label: {predicted_label}")
print(f"Confidence: {predicted_confidence:.4f}")

"""### **4. Neural Network - Training (40 points)**

We can now train and evaluate our network.
1. Split the dataset into a training set and a validation set. Train-set size: 80% of the total data. Val-set size: the rest 20%.
2. Create a dataloader for each set (```train_loader``` and ```val_loader```, see Section 2 for examples).
3. Choose hyperparameters (for now we choose ```learning_rate=0.005``` and ```num_epochs=5```).
4. Use SGD (Stochastic Gradient Descent) as the optimizer.
5. Since it is a multi-class classification task, use "negative log-likelihood loss" as the loss criterion.
6. Train your model on the train-set and evaluate it on the validation-set.
7. During training, for each epoch, track the training loss and validation loss.
"""

from torch.utils import data

# TODO: 1. split trainset into train and validation (use torch.utils.data.random_split())
######################
### YOUR CODE HERE ###
######################
train_set = mnist_data
train_size = int(0.8 * len(train_set))
val_size = len(train_set) - train_size

train_subset, val_subset = data.random_split(train_set, [train_size, val_size])

# TODO: 2.1. create data loader for the trainset (batch_size=64, shuffle=True)
######################
### YOUR CODE HERE ###
######################
# train_loader = ...
train_loader = data.DataLoader(train_subset, batch_size=64, shuffle=True)

# TODO: 2.2. create data loader for the valset (batch_size=64, shuffle=False)
######################
### YOUR CODE HERE ###
######################
# val_loader = ...
val_loader = data.DataLoader(val_subset, batch_size=64, shuffle=False)

# 3. set hyper parameters
learning_rate = 0.005
nepochs = 5

model = NeuralNetwork()

# TODO: 4. create sgd optimizer. It should optimize our model parameters with
#    learning_rate defined above
######################
### YOUR CODE HERE ###
######################
# optimizer = ...
optimizer = optim.SGD(model.parameters(), lr=learning_rate)

# TODO: 5. create a criterion object. It should be negative log-likelihood loss since the task
#    is a multi-task classification (digits classification)
######################
### YOUR CODE HERE ###
######################
# criterion = ...
criterion = nn.NLLLoss()

# 6.1. Train the model. (Fill empty code blocks)
def train_model(model, optimizer, criterion,
                nepochs, train_loader, val_loader, is_image_input = False):
  '''
  Train a pytorch model and evaluate it every epoch.
  Params:
  model - a pytorch model to train
  optimizer - an optimizer
  criterion - the criterion (loss function)
  nepochs - number of training epochs
  train_loader - dataloader for the trainset
  val_loader - dataloader for the valset
  is_image_input (default False) - If false, flatten 2d images into a 1d array.
                                Should be True for Neural Networks
                                but False for Convolutional Neural Networks.
  '''
  train_losses, val_losses = [], []
  for e in range(nepochs):
      running_loss = 0
      running_val_loss = 0
      for images, labels in train_loader:
          if is_image_input:
            # Flatten Fashion-MNIST images into a 784 long vector
            images = images.view(images.shape[0], -1)

          # Training pass
          model.train() # set model in train mode

          # TODO: Compute the loss and do the backward and optimizer step
          ######################
          ### YOUR CODE HERE ###
          ######################
          optimizer.zero_grad()
          outputs = model(images)
          loss = criterion(outputs, labels)
          loss.backward()
          optimizer.step()

          running_loss += loss.item()
      else:
          val_loss = 0
          # 6.2 Evalaute model on validation at the end of each epoch.
          with torch.no_grad():
              for images, labels in val_loader:
                  if is_image_input:
                    # Flatten Fashion-MNIST images into a 784 long vector
                    images = images.view(images.shape[0], -1)
                  model.eval() # set model in evaluation mode

                  # TODO: compute the Validation Loss
                  ######################
                  ### YOUR CODE HERE ###
                  ######################
                  # val_loss = ...
                  ######################
                  outputs = model(images)
                  val_loss = criterion(outputs, labels)


                  running_val_loss += val_loss.item()

          # 7. track train loss and validation loss
          train_losses.append(running_loss/len(train_loader))
          val_losses.append(running_val_loss/len(val_loader))

          print("Epoch: {}/{}.. ".format(e+1, nepochs),
                "Training Loss: {:.3f}.. ".format(running_loss/len(train_loader)),
                "Validation Loss: {:.3f}.. ".format(running_val_loss/len(val_loader)))
  return train_losses, val_losses

# 6.1. Train the model.
  ## NOTE: Do not run this cell continuously without running the two cells above!
  ##       Otherwise, you might train a model you have already trained.
  ##       So make sure to run the two cells above (to first initialize the model
  ##       and optimizer), every time, before running this cell!
train_losses, val_losses = train_model(model, optimizer, criterion, nepochs,
                                       train_loader, val_loader, is_image_input=True)
def evaluate_model(model, val_loader, is_image_input=False):
  '''
  Evaluate a model on the given dataloader.
  Params:
  model - a pytorch model to train
  val_loader - dataloader for the valset
  is_image_input (default False) - If false, flatten 2d images into a 1d array.
                                   Should be True for Neural Networks
                                   but False for Convolutional Neural Networks.
  '''
  validation_accuracy = 0
  with torch.no_grad():
      model.eval()
      for images, labels in val_loader:
          if is_image_input:
            # flatten Fashion-MNIST images into a 784 long vector
            images = images.view(images.shape[0], -1)
          # forward pass
          test_output = model(images)
          ps = torch.exp(test_output)
          top_p, top_class = ps.topk(1, dim=1)
          # count correct predictions
          equals = top_class == labels.view(*top_class.shape)
          validation_accuracy += torch.sum(equals.type(torch.FloatTensor))
  res = validation_accuracy/len(val_loader.dataset)
  return res
class ConvolutionalNet(nn.Module):
    def __init__(self):
        super(ConvolutionalNet, self).__init__()
        self.conv1 = nn.Conv2d(1, 10, kernel_size=5)
        self.conv2 = nn.Conv2d(10, 20, kernel_size=5)
        self.fc1 = nn.Linear(320, 50)
        self.fc2 = nn.Linear(50, 10)

    def forward(self, x):
        x = self.conv1(x) # conv 1
        x = F.max_pool2d(x, 2) # max pooling 1
        x = F.relu(x) # relu
        x = self.conv2(x) # conv 2
        x = F.max_pool2d((x), 2) # max pooling 2
        x = F.relu(x) # relu
        x = x.view(-1, 320) # flatten input
        x = self.fc1(x) # hidden layer 1
        x = F.relu(x) # relu
        x = self.fc2(x) # hidden layer 2
        return F.log_softmax(x, dim=1) #output

cnn_model = ConvolutionalNet()
print(cnn_model)
We can now train the model on the train set.
# set hyperparameters
cnn_nepochs = 3
cnn_learning_rate = 0.03
# train the conv model
cnn_model = ConvolutionalNet()
# create sgd optimizer
cnn_optimizer = optim.SGD(cnn_model.parameters(), lr=cnn_learning_rate)
# create negative log likelihood loos
cnn_criterion = nn.NLLLoss()

train_losses, val_losses = train_model(cnn_model, cnn_optimizer, cnn_criterion,
                                       cnn_nepochs, train_loader, val_loader, is_image_input=False)
# evaluate on the validation set
print(f"Validation accuracy: {evaluate_model(cnn_model, val_loader, is_image_input=False)}")
You should probably see that our CNN performs better on the validation set compared to the simple neural network (within 3 epochs only!) :)
___________
Now it's your turn: Use the code above and create a convolutional neural network that achieves the best accuracy on the validation set.
Note that you must use only the Fashion-MNIST training set as we did earlier:
```mnist_data = datasets.FashionMNIST(data_path, download=True, train=True, transform=transform)```

**Using any other or additional data from the test set will result in point deductions (without any bonus)!**

You should consider changing (change at least 4 things):  
1. Network architecture:
  - Number of convolutional layers
  - Number of kernels (filters) for each convolutional layer
  - Size of each kernel on each layer
  - Number of hidden layers (fully connected)
  - Number of units for each hidden layer
  - Usage of layers like BatchNormalization and Dropout.
  - Usage of max pooling (or maybe other pooling strategies)

2. Training hyperparameters:
  - Learning rate
  - Optimizer (SGD with momentum, adam, etc)
  - Number of epochs

To get full points in this part: make sure you implement the model architecture correctly, train the model properly, use the optimizer effectively, and ensure your validation accuracy is greater than 80%. **(4 points for this part)**
## TODO: Prepocess
######################
### YOUR CODE HERE ###
######################
data_path = "./FashionMNIST_data_CNN"

# Define a transform to normalize the data
# transform = transforms.Compose([transforms.ToTensor(),
#                               ...
#                               ])
transform = transforms.Compose([
    transforms.ToTensor(),
    transforms.Normalize((0.5,), (0.5,))
])

# Download and load the data
mnist_data = datasets.FashionMNIST(data_path, download=True, train=True, transform=transform)
mnist_dataloader = torch.utils.data.DataLoader(mnist_data, batch_size=64, shuffle=True)

# split trainset into train (80%) and validation (20%)
# ...
# train_loader = ...
# val_loader = ...
train_size = int(0.8 * len(mnist_data))
val_size = len(mnist_data) - train_size
train_data, val_data = torch.utils.data.random_split(mnist_data, [train_size, val_size])

train_loader = torch.utils.data.DataLoader(train_data, batch_size=64, shuffle=True)
val_loader = torch.utils.data.DataLoader(val_data, batch_size=64, shuffle=False)
# TODO: Find network and hyperparams that achieve best validation accuracy as possible
######################
### YOUR CODE HERE ###
######################
import torch.nn as nn
import torch.nn.functional as F
import torch.optim as optim

class ConvolutionalNet1(nn.Module):
    def __init__(self):
        super(ConvolutionalNet1, self).__init__()
        # 3 convulotion layers with BatchNorm, different number of kernels
        self.conv1 = nn.Conv2d(1, 32, kernel_size=3, padding=1)  # 28x28 -> 28x28
        self.bn1 = nn.BatchNorm2d(32)
        self.conv2 = nn.Conv2d(32, 64, kernel_size=3, padding=1) # 28x28 -> 28x28
        self.bn2 = nn.BatchNorm2d(64)
        self.conv3 = nn.Conv2d(64, 128, kernel_size=3, padding=1) # 28x28 -> 28x28
        self.bn3 = nn.BatchNorm2d(128)

        self.pool = nn.MaxPool2d(2, 2)  # Usage of max pooling

        self.dropout = nn.Dropout(0.25)

        # 28 -> 14 -> 7 -> 3
        self.fc1 = nn.Linear(128 * 3 * 3, 128)
        self.fc2 = nn.Linear(128, 10)

    def forward(self, x):
        x = self.pool(F.relu(self.bn1(self.conv1(x))))  # 28x28 -> 14x14
        x = self.pool(F.relu(self.bn2(self.conv2(x))))  # 14x14 -> 7x7
        x = self.pool(F.relu(self.bn3(self.conv3(x))))  # 7x7 -> 3x3
        x = self.dropout(x)
        x = x.view(-1, 128 * 3 * 3)
        x = F.relu(self.fc1(x))
        x = self.dropout(x)
        x = self.fc2(x)
        return F.log_softmax(x, dim=1)
# TODO: Save the best model in this variable and evaluate on the validation set
######################
### YOUR CODE HERE ###
######################
#best_model = ...
#print(f"Validation accuracy: {evaluate_model(best_model, val_loader, is_image_input=False)}")
best_model = ConvolutionalNet1()

cnn_nepochs = 3
# different learning rate
cnn_learning_rate = 0.001

# different optimizer
cnn_optimizer = optim.Adam(best_model.parameters(), lr=cnn_learning_rate)
cnn_criterion = nn.NLLLoss()

train_losses, val_losses = train_model(best_model, cnn_optimizer, cnn_criterion,
                                       cnn_nepochs, train_loader, val_loader)
print(f"Validation accuracy: {evaluate_model(best_model, val_loader, is_image_input=False)}")

When you are satisfied with your model performance on the validation set, load the test set given to you (**important** - apply any transformation you applied to the train set before) - [FashionMNIST_test.pth](https://drive.google.com/file/d/1FeOaoRU-tkhOiKzsK_UZNwbNPaRqaDVu/view?usp=sharing), into your drive assignment folder (e.g "machine_learning/assignments/assignment5/FashionMNIST_test.pth"), and write the model predictions for each test sample to a file called "predictions.txt". You can use the code below.


**Download the "predictions.txt" file to your computer, and then upload it to the "submit" system with this notebook in one zip file named ex4.zip**

Ensure each prediction is printed in a new line.

For Example ("predictions.txt"):
```
0  
5  
9
```

<font color='blue'><b>
Note: Bonus points will be given for the top 10 submissions having the highest test accuracy:
- Top 1-3 get 5 points
- Top 4-6 get 3 points
- top 7-10 get 2 points  
</b></font>  
def predict_and_save(model, test_path, file_name):
  # load mnist test data
  mnist_test_data = torch.utils.data.TensorDataset(torch.load(test_path))

  ## TODO: Prepocess the test set (i.e apply the transform to normalize the test set as you did to your train set)
  ######################
  ### YOUR CODE HERE ###
  ######################
  model.eval()  # set model to eval mode
  # Load the raw test data (tensors)
  test_images = torch.load(test_path)  # Expected to be a single tensor of shape (N, 1, 28, 28)

  # Normalize the test set manually (like in training: mean=0.5, std=0.5)
  test_images = (test_images - 0.5) / 0.5  # Equivalent to Normalize((0.5,), (0.5,))

  # Wrap in a TensorDataset
  mnist_test_data = torch.utils.data.TensorDataset(test_images)


  # create a dataloader
  mnist_test_loader = torch.utils.data.DataLoader(mnist_test_data, batch_size=1, shuffle=False)
  # make a prediction for each batch and save all predictions in total_preds
  total_preds = torch.empty(0, dtype=torch.long)
  for imgs in mnist_test_loader:
    log_ps = model(imgs[0])
    ps = torch.exp(log_ps)
    _, top_class = ps.topk(1, dim=1)
    total_preds = torch.cat((total_preds, top_class.reshape(-1)))
  total_preds = total_preds.cpu().numpy()
  # write all predictions to a file
  with open(file_name,"w") as pred_f:
    for pred in total_preds:
      pred_f.write(str(pred) + "\n")

predict_and_save(best_model, test_path=f"/content/drive/MyDrive/machine_learning/assignments/assignment4/FashionMNIST_test.pth", file_name="predictions.txt")
from google.colab import files
files.download('predictions.txt')
